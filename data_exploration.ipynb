{
 "cells": [
  {
   "cell_type": "code",
   "execution_count": 1,
   "metadata": {},
   "outputs": [],
   "source": [
    "import pandas as pd\n",
    "import matplotlib.pyplot as plt\n",
    "import math\n",
    "\n",
    "def plot_scenario_data(df, name):\n",
    "    df.columns = ['Unnamed: 0', 'Heuristic Stress', 'Predictability-Control Stress', 'Value Stress', 'Control Stress', 'Predictability stress', 'state_name','end_state']\n",
    "    df = df.drop(labels=[\"Unnamed: 0\", \"end_state\"], axis=1) # 'Heuristic_Stress's\n",
    "\n",
    "    #yerr=df.std()\n",
    "    #print(df)\n",
    "    #print(yerr)\n",
    "\n",
    "    df_means = df.groupby(\"state_name\").mean() #.aggregate(['mean', 'std'])\n",
    "    df_var = df.groupby(\"state_name\").var()\n",
    "\n",
    "    #print(df_means)\n",
    "    #df = df[df.state_name != \"preflight\"]\n",
    "    try:\n",
    "        df_means = df_means.drop([\"landed\", \"crashed\"]) #\"crashed\" is not removed for now use it as \"max stress\"\n",
    "    except KeyError as ke:\n",
    "        print(\"no crashed or landed data to drop in plot_scenario_data\")\n",
    "    try:\n",
    "        df_means = df_means.drop([\"preflight\"])\n",
    "    except KeyError as ke2:\n",
    "        print(\"No preflight data in df in plot_scenario_data\")\n",
    "        \n",
    "    fig = plt.figure(figsize=(18,9))\n",
    "    ax = df_means.plot(kind = \"bar\", figsize=(14,6), title=name, yerr=2*df_var, align='center')\n",
    "    ax.set(xlabel=\"Flight state\", ylabel=\"Estimated stress level\")\n",
    "    ax.set_ylim(0, 1)\n",
    "    #ax.set_yticks([0, 0.1, 0.2, 0.3, 0.4, 0.5, 0.6, 0.7, 0.8, 0.9, 1])\n",
    "    ax.grid(visible=True, axis='y', linestyle='-.')\n",
    "\n",
    "    plt.show()\n",
    "    return df\n",
    "\n"
   ]
  },
  {
   "cell_type": "code",
   "execution_count": null,
   "metadata": {},
   "outputs": [],
   "source": []
  },
  {
   "cell_type": "code",
   "execution_count": 2,
   "metadata": {},
   "outputs": [],
   "source": [
    "df_scen1 = pd.read_csv(\"./data/stress_data_scenario_one__.csv\") #simple\n",
    "df_scen2 = pd.read_csv(\"./data/stress_data_scenario_two__.csv\") #wind\n",
    "df_scen3 = pd.read_csv(\"./data/stress_data_scenario_three__.csv\") #fuel\n",
    "df_scen4 = pd.read_csv(\"./data/stress_data_scenario_four__.csv\") #extreme"
   ]
  },
  {
   "cell_type": "code",
   "execution_count": 3,
   "metadata": {},
   "outputs": [
    {
     "name": "stdout",
     "output_type": "stream",
     "text": [
      "No preflight state present in the data to drop!\n",
      "No preflight state present in the data to drop!\n",
      "No preflight state present in the data to drop!\n",
      "No preflight state present in the data to drop!\n",
      "No preflight state present in the data to drop!\n"
     ]
    }
   ],
   "source": [
    "\n",
    "def compute_ci(df):\n",
    "    df.columns = ['Unnamed: 0', 'Heuristic Stress', 'Predictability-Control Stress', 'Value Stress', 'Control Stress', 'Predictability stress', 'state_name','end_state']\n",
    "    df = df.drop(labels=[\"Unnamed: 0\", \"end_state\"], axis=1) # 'Heuristic_Stress's\n",
    "\n",
    "    condition_names = ['Heuristic Stress', 'Predictability-Control Stress', 'Value Stress', 'Control Stress', 'Predictability stress']\n",
    "\n",
    "    for condition in condition_names:\n",
    "        print(\"-------\")\n",
    "        col_stats = df[[condition, \"state_name\"]].groupby(\"state_name\").agg(['mean', 'count', 'std'])\n",
    "        #print(col_stats)\n",
    "\n",
    "        try:\n",
    "            stats = col_stats.drop([\"preflight\", \"landed\", \"crashed\"]) #\"crashed\" is not removed for now use it as \"max stress\"\n",
    "        except KeyError:\n",
    "            stats = col_stats.drop([\"preflight\"]) \n",
    "\n",
    "        #print(stats)\n",
    "\n",
    "        ci95_hi = []\n",
    "        ci95_lo = []\n",
    "\n",
    "        for i in stats.index:\n",
    "            #print(i)\n",
    "            m, c, s = stats.loc[i]\n",
    "            ci95_hi.append(m + 1.96*s/math.sqrt(c))\n",
    "            ci95_lo.append(m - 1.96*s/math.sqrt(c))\n",
    "\n",
    "        stats['ci95_hi'] = ci95_hi\n",
    "        stats['ci95_lo'] = ci95_lo\n",
    "        print(stats)\n",
    "\n",
    "\n",
    "compute_ci(df_scen1)\n"
   ]
  },
  {
   "cell_type": "code",
   "execution_count": 4,
   "metadata": {},
   "outputs": [
    {
     "name": "stdout",
     "output_type": "stream",
     "text": [
      "No preflight data in df in plot_scenario_data\n"
     ]
    },
    {
     "data": {
      "text/plain": [
       "<Figure size 1296x648 with 0 Axes>"
      ]
     },
     "metadata": {},
     "output_type": "display_data"
    },
    {
     "data": {
      "image/png": "[encoded data removed]",
      "text/plain": [
       "<Figure size 1008x432 with 1 Axes>"
      ]
     },
     "metadata": {
      "needs_background": "light"
     },
     "output_type": "display_data"
    }
   ],
   "source": [
    "df = plot_scenario_data(df_scen1, name=\"Simple scenario\")\n",
    "#df2 = plot_scenario_data(df_scen1_b)\n",
    "print(df)"
   ]
  },
  {
   "cell_type": "code",
   "execution_count": null,
   "metadata": {},
   "outputs": [],
   "source": [
    "#df = plot_scenario_data(df_scen1_b, name=\"Simple scenario, test with updated data for blue\")\n",
    "#print(df)\n",
    "# -> no difference"
   ]
  },
  {
   "cell_type": "code",
   "execution_count": null,
   "metadata": {},
   "outputs": [],
   "source": [
    "df = plot_scenario_data(df_scen2, name=\"Wind scenario\")\n",
    "print(df)"
   ]
  },
  {
   "cell_type": "code",
   "execution_count": null,
   "metadata": {},
   "outputs": [],
   "source": [
    "df = plot_scenario_data(df_scen3, name=\"Fuel scenario\")\n",
    "print(df)"
   ]
  },
  {
   "cell_type": "code",
   "execution_count": null,
   "metadata": {},
   "outputs": [],
   "source": [
    "df = plot_scenario_data(df_scen4, name=\"Extreme scenario\")\n",
    "print(df)"
   ]
  },
  {
   "cell_type": "code",
   "execution_count": null,
   "metadata": {},
   "outputs": [],
   "source": [
    "# Extra tool needed to do the box plots\n",
    "def plot_scenario_data_box(df, name):\n",
    "    df.columns = ['Unnamed: 0', 'Heuristic Stress', 'Predictability-Control Stress', 'Value Stress', 'Control Stress', 'Predictability stress', 'state_name','end_state']\n",
    "    df = df.drop(labels=[\"Unnamed: 0\", \"end_state\"], axis=1) # 'Heuristic_Stress's\n",
    "\n",
    "    labels = ['Heuristic Stress', 'Predictability-Control Stress', 'Value Stress', 'Control Stress', 'Predictability stress']\n",
    "    df = df.groupby(\"state_name\").mean()\n",
    "  \n",
    "    #df = df[df.state_name != \"preflight\"]\n",
    "    try:\n",
    "        df = df.drop([\"landed\", \"crashed\"]) #\"crashed\" is not removed for now use it as \"max stress\"\n",
    "    except KeyError as ke:\n",
    "        print(\"No landed or crashed state to drop in box\")\n",
    "    \n",
    "    try:\n",
    "        df = df.drop([\"preflight\"])\n",
    "    except KeyError as ke2:\n",
    "        print(\"No preflight state present in the data to drop in box\")\n",
    "    \n",
    "    fig = plt.figure(figsize=(18,9))\n",
    "    #ax = df.plot(figsize=(14,6), title=name)\n",
    "    ax = plt.gca()\n",
    "    bplot1 = ax.boxplot(df,\n",
    "                        #notch=True,  # notch shape\n",
    "                        vert=True,  # vertical box alignment\n",
    "                        patch_artist=True,  # fill with color)\n",
    "                        labels=labels\n",
    "    )\n",
    "    \n",
    "    colors = ['pink', 'lightblue', 'lightgreen', 'blue', 'red']\n",
    "\n",
    "    zipped = zip(bplot1['boxes'], colors)\n",
    "    for patch, color in zipped:\n",
    "        patch.set_facecolor(color)\n",
    "\n",
    "    ax.set(xlabel=\"Flight state\", ylabel=\"Estimated stress level\")\n",
    "    ax.set_ylim(0, 1)\n",
    "    #ax.set_yticks([0, 0.1, 0.2, 0.3, 0.4, 0.5, 0.6, 0.7, 0.8, 0.9, 1])\n",
    "    ax.grid(visible=True, axis='y', linestyle='-.')\n",
    "\n",
    "    plt.show()\n",
    "    return df"
   ]
  }
 ],
 "metadata": {
  "interpreter": {
   "hash": "41025d8ade55a93954daf0412d820bd9b3997f2b18c0c969123c8387802f32aa"
  },
  "kernelspec": {
   "display_name": "Python 3.9.9 64-bit ('myenv': conda)",
   "language": "python",
   "name": "python3"
  },
  "language_info": {
   "codemirror_mode": {
    "name": "ipython",
    "version": 3
   },
   "file_extension": ".py",
   "mimetype": "text/x-python",
   "name": "python",
   "nbconvert_exporter": "python",
   "pygments_lexer": "ipython3",
   "version": "3.9.9"
  },
  "orig_nbformat": 4
 },
 "nbformat": 4,
 "nbformat_minor": 2
}
